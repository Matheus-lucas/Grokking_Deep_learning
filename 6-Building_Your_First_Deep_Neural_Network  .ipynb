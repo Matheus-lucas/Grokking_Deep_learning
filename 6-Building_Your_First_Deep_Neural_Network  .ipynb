{
 "cells": [
  {
   "cell_type": "code",
   "execution_count": 28,
   "metadata": {},
   "outputs": [
    {
     "name": "stdout",
     "output_type": "stream",
     "text": [
      "Populating the interactive namespace from numpy and matplotlib\n"
     ]
    }
   ],
   "source": [
    "import numpy as np\n",
    "import matplotlib.pyplot as plt\n",
    "import matplotlib.image as mpimg\n",
    "\n",
    "%pylab inline"
   ]
  },
  {
   "cell_type": "markdown",
   "metadata": {},
   "source": [
    "## IMPORTANTE!!!!"
   ]
  },
  {
   "cell_type": "code",
   "execution_count": 29,
   "metadata": {},
   "outputs": [
    {
     "data": {
      "image/png": "[encoded data removed]",
      "text/plain": [
       "<Figure size 432x288 with 1 Axes>"
      ]
     },
     "metadata": {
      "needs_background": "light"
     },
     "output_type": "display_data"
    }
   ],
   "source": [
    "img=mpimg.imread('prod_matriz.png')\n",
    "imgplot = plt.imshow(img)\n",
    "plt.show()"
   ]
  },
  {
   "cell_type": "code",
   "execution_count": 30,
   "metadata": {},
   "outputs": [],
   "source": [
    "streetlights=np.array([[1, 0, 1],\n",
    "                    [0, 1, 1],\n",
    "                    [0, 0, 1],\n",
    "                    [1, 1, 1],\n",
    "                    [0, 1, 1],\n",
    "                    [1, 0, 1]\n",
    "                    ])"
   ]
  },
  {
   "cell_type": "code",
   "execution_count": 31,
   "metadata": {},
   "outputs": [],
   "source": [
    "walk_vs_stop=np.array([0, 1, 0, 1, 1, 0])"
   ]
  },
  {
   "cell_type": "code",
   "execution_count": 32,
   "metadata": {},
   "outputs": [
    {
     "name": "stdout",
     "output_type": "stream",
     "text": [
      "Error: 0.03999999999999998, Prediction: -0.19999999999999996\n",
      "Error: 0.025599999999999973, Prediction: -0.15999999999999992\n",
      "Error: 0.01638399999999997, Prediction: -0.1279999999999999\n",
      "Error: 0.010485759999999964, Prediction: -0.10239999999999982\n",
      "Error: 0.006710886399999962, Prediction: -0.08191999999999977\n",
      "Error: 0.004294967295999976, Prediction: -0.06553599999999982\n",
      "Error: 0.002748779069439994, Prediction: -0.05242879999999994\n",
      "Error: 0.0017592186044416036, Prediction: -0.04194304000000004\n",
      "Error: 0.0011258999068426293, Prediction: -0.03355443200000008\n",
      "Error: 0.0007205759403792803, Prediction: -0.02684354560000002\n",
      "Error: 0.0004611686018427356, Prediction: -0.021474836479999926\n",
      "Error: 0.0002951479051793508, Prediction: -0.01717986918399994\n",
      "Error: 0.00018889465931478573, Prediction: -0.013743895347199997\n",
      "Error: 0.00012089258196146188, Prediction: -0.010995116277759953\n",
      "Error: 7.737125245533561e-05, Prediction: -0.008796093022207963\n",
      "Error: 4.951760157141604e-05, Prediction: -0.007036874417766459\n",
      "Error: 3.169126500570676e-05, Prediction: -0.0056294995342132115\n",
      "Error: 2.028240960365233e-05, Prediction: -0.004503599627370569\n",
      "Error: 1.298074214633813e-05, Prediction: -0.003602879701896544\n",
      "Error: 8.307674973656916e-06, Prediction: -0.002882303761517324\n"
     ]
    }
   ],
   "source": [
    "input1 = streetlights[0]\n",
    "goal_prediction = walk_vs_stop[0]\n",
    "\n",
    "alpha = 0.1\n",
    "weights = [0.5, 0.48, -0.7]\n",
    "\n",
    "for i in range(20):\n",
    "    prediction=input1.dot(weights)\n",
    "    error = (goal_prediction-prediction)**2\n",
    "    delta = prediction - goal_prediction\n",
    "    \n",
    "    weights -= alpha*(delta*input1)\n",
    "    print(\"Error: {}, Prediction: {}\".format(error, prediction))"
   ]
  },
  {
   "cell_type": "markdown",
   "metadata": {},
   "source": [
    "## Learn the whole dataset"
   ]
  },
  {
   "cell_type": "code",
   "execution_count": 33,
   "metadata": {},
   "outputs": [
    {
     "name": "stdout",
     "output_type": "stream",
     "text": [
      "Error: 0.0028384398639797817, Prediction: -0.006249692019824664\n",
      "[ 0.03188051  0.03201729 -0.03688026]\n"
     ]
    }
   ],
   "source": [
    "for i in range(40):\n",
    "    error_for_all_lights=0\n",
    "    for row in range(len(walk_vs_stop)):\n",
    "        input1=streetlights[row]\n",
    "        prediction=input1.dot(weights)\n",
    "        \n",
    "        error = (goal_prediction-prediction)**2\n",
    "        error_for_all_lights += error\n",
    "        \n",
    "        delta = prediction - goal_prediction\n",
    "    \n",
    "        weights -= alpha*(delta*input1)\n",
    "print(\"Error: {}, Prediction: {}\".format(error_for_all_lights, prediction))\n",
    "print(weights)"
   ]
  },
  {
   "cell_type": "code",
   "execution_count": 34,
   "metadata": {},
   "outputs": [
    {
     "data": {
      "text/plain": [
       "array([-0.00499975, -0.00486297, -0.03688026,  0.02701754, -0.00486297,\n",
       "       -0.00499975])"
      ]
     },
     "execution_count": 34,
     "metadata": {},
     "output_type": "execute_result"
    }
   ],
   "source": [
    "streetlights.dot(weights)"
   ]
  },
  {
   "cell_type": "markdown",
   "metadata": {},
   "source": [
    "## 6.23  Our First \"Deep\" Neural Network  "
   ]
  },
  {
   "cell_type": "code",
   "execution_count": 35,
   "metadata": {},
   "outputs": [
    {
     "name": "stdout",
     "output_type": "stream",
     "text": [
      "[0.39194327]\n"
     ]
    }
   ],
   "source": [
    "np.random.seed(1)\n",
    "def relu(x):\n",
    "    return (x>0) * x\n",
    "\n",
    "alpha = 0.2\n",
    "hidden_size = 4\n",
    "\n",
    "walk_vs_stop = walk_vs_stop.T\n",
    "\n",
    "# randomly initialed weights\n",
    "weights_0_1 = 2*np.random.random((3,hidden_size))-1\n",
    "weights_1_2 = 2*np.random.random((hidden_size,1))-1\n",
    "\n",
    "layer_0 = streetlights[0]\n",
    "layer_1 = relu(np.dot(layer_0, weights_0_1))\n",
    "\n",
    "\"\"\" the output of layer_1 is sento through \"relu\" where\n",
    " negative values become 0, This is then th input for the \n",
    " next layer \"\"\"\n",
    "layer_2 = np.dot(layer_1,weights_1_2)\n",
    "\n",
    "print(layer_2)"
   ]
  },
  {
   "cell_type": "markdown",
   "metadata": {},
   "source": [
    "## 6.24  Backpropagation in Code  "
   ]
  },
  {
   "cell_type": "code",
   "execution_count": 36,
   "metadata": {},
   "outputs": [
    {
     "ename": "ValueError",
     "evalue": "shapes (4,1) and (0,1) not aligned: 1 (dim 1) != 0 (dim 0)",
     "output_type": "error",
     "traceback": [
      "\u001b[1;31m---------------------------------------------------------------------------\u001b[0m",
      "\u001b[1;31mValueError\u001b[0m                                Traceback (most recent call last)",
      "\u001b[1;32m<ipython-input-36-58d4d94e49b8>\u001b[0m in \u001b[0;36m<module>\u001b[1;34m\u001b[0m\n\u001b[0;32m     32\u001b[0m \u001b[1;33m\u001b[0m\u001b[0m\n\u001b[0;32m     33\u001b[0m         \u001b[1;31m# update the weights\u001b[0m\u001b[1;33m\u001b[0m\u001b[1;33m\u001b[0m\u001b[1;33m\u001b[0m\u001b[0m\n\u001b[1;32m---> 34\u001b[1;33m         \u001b[0mweights_1_2\u001b[0m \u001b[1;33m-=\u001b[0m \u001b[0malpha\u001b[0m \u001b[1;33m*\u001b[0m \u001b[0mlayer_1\u001b[0m\u001b[1;33m.\u001b[0m\u001b[0mT\u001b[0m\u001b[1;33m.\u001b[0m\u001b[0mdot\u001b[0m\u001b[1;33m(\u001b[0m\u001b[0mlayer_2_delta\u001b[0m\u001b[1;33m)\u001b[0m\u001b[1;33m\u001b[0m\u001b[1;33m\u001b[0m\u001b[0m\n\u001b[0m\u001b[0;32m     35\u001b[0m         \u001b[0mweights_0_1\u001b[0m \u001b[1;33m-=\u001b[0m \u001b[0malpha\u001b[0m \u001b[1;33m*\u001b[0m \u001b[0mlayer_0\u001b[0m\u001b[1;33m.\u001b[0m\u001b[0mT\u001b[0m\u001b[1;33m.\u001b[0m\u001b[0mdot\u001b[0m\u001b[1;33m(\u001b[0m\u001b[0mlayer_1_delta\u001b[0m\u001b[1;33m)\u001b[0m\u001b[1;33m\u001b[0m\u001b[1;33m\u001b[0m\u001b[0m\n\u001b[0;32m     36\u001b[0m \u001b[1;33m\u001b[0m\u001b[0m\n",
      "\u001b[1;31mValueError\u001b[0m: shapes (4,1) and (0,1) not aligned: 1 (dim 1) != 0 (dim 0)"
     ]
    }
   ],
   "source": [
    "np.random.seed(1)\n",
    "def relux(x):\n",
    "    return (x>0) * x\n",
    "\n",
    "def relu2deriv(output):\n",
    "    return output>0\n",
    "\n",
    "alpha = 0.2\n",
    "hidden_size = 4\n",
    "\n",
    "# randomly initialed weights\n",
    "weights_0_1 = 2*np.random.random((3,hidden_size))-1\n",
    "weights_1_2 = 2*np.random.random((hidden_size,1))-1\n",
    "\n",
    "walk_vs_stop = np.array([[ 1, 1, 0, 0]]).T \n",
    "for i in range(60):\n",
    "    layer_2_error=0\n",
    "    for x in range(len(streetlights)):\n",
    "        #inpus\n",
    "        layer_0 = streetlights[x:x+1]\n",
    "        \n",
    "        #layer 1: firsts weights\n",
    "        layer_1 = relu(np.dot(layer_0, weights_0_1))\n",
    "        \n",
    "        #layer 2: second Weights\n",
    "        layer_2 = np.dot(layer_1,weights_1_2)\n",
    "        \n",
    "        # calculate the layer 2 error and backpropagate him to adjust the layer 1 weights\n",
    "        layer_2_error +=np.sum((layer_2 - walk_vs_stop[x:x+1])**2)\n",
    "        layer_2_delta =(walk_vs_stop[x:x+1] - layer_2)\n",
    "        layer_1_delta = layer_2_delta.dot(weights_1_2.T)*relu2deriv(layer_1)\n",
    "        \n",
    "        # update the weights        \n",
    "        weights_1_2 -= alpha * layer_1.T.dot(layer_2_delta)\n",
    "        weights_0_1 -= alpha * layer_0.T.dot(layer_1_delta)\n",
    "        \n",
    "    if(i%10==9):\n",
    "        print(\"Error: {}\".format(layer_2_error))"
   ]
  },
  {
   "cell_type": "markdown",
   "metadata": {},
   "source": [
    "## 6.26  Putting it all together  "
   ]
  },
  {
   "cell_type": "code",
   "execution_count": 44,
   "metadata": {},
   "outputs": [
    {
     "name": "stdout",
     "output_type": "stream",
     "text": [
      "Error: 0.6342311598444467\n",
      "Error: 0.35838407676317513\n",
      "Error: 0.0830183113303298\n",
      "Error: 0.006467054957103705\n",
      "Error: 0.0003292669000750734\n",
      "Error: 1.5055622665134859e-05\n"
     ]
    }
   ],
   "source": [
    "np.random.seed(1)  \n",
    "def relu(x):  \n",
    "    return (x > 0) * x # returns x if x > 0  \n",
    "                        # return 0 otherwise  \n",
    "def relu2deriv(output):  \n",
    "    return output>0 # returns 1 for input > 0  \n",
    "                    # return 0 otherwise  \n",
    "streetlights = np.array( [[ 1, 0,  1 ], \n",
    "                          [ 0, 1, 1 ],\n",
    "                          [ 0, 0, 1 ],\n",
    "                          [ 1, 1, 1 ] ] )  \n",
    "\n",
    "walk_vs_stop = np.array([[ 1, 1, 0, 0]]).T  \n",
    "alpha = 0.2  \n",
    "\n",
    "hidden_size = 4\n",
    "\n",
    "# randomly initialed weights\n",
    "weights_0_1 = 2*np.random.random((3,hidden_size))-1\n",
    "weights_1_2 = 2*np.random.random((hidden_size,1))-1\n",
    "\n",
    "# Ver a célula importante\n",
    "\n",
    "walk_vs_stop = np.array([[ 1, 1, 0, 0]]).T \n",
    "for i in range(60):\n",
    "    layer_2_error=0\n",
    "    for x in range(len(streetlights)):\n",
    "        # update the inputs for each dataset row\n",
    "        layer_0 = streetlights[x:x+1]\n",
    "            \n",
    "        \n",
    "        #layer 1: firsts weights\n",
    "        layer_1 = relu(np.dot(layer_0, weights_0_1))\n",
    "        \n",
    "        #layer 2: second weights\n",
    "        layer_2 = np.dot(layer_1,weights_1_2)\n",
    "        \n",
    "        # calculate the layer 2 error and backpropagate him to adjust the layer 1 weights\n",
    "        layer_2_error +=np.sum((layer_2 - walk_vs_stop[x:x+1])**2)\n",
    "        \n",
    "        # calculate the gradient decesdent\n",
    "        layer_2_delta =(layer_2 - walk_vs_stop[x:x+1])\n",
    "        layer_1_delta = layer_2_delta.dot(weights_1_2.T)*relu2deriv(layer_1)\n",
    "        \n",
    "        # update the weights  \n",
    "        weights_1_2 -= alpha * layer_1.T.dot(layer_2_delta)\n",
    "        weights_0_1 -= alpha * layer_0.T.dot(layer_1_delta)\n",
    "        \n",
    "    if(i%10==9):\n",
    "        print(\"Error: {}\".format(layer_2_error))"
   ]
  },
  {
   "cell_type": "code",
   "execution_count": 47,
   "metadata": {},
   "outputs": [
    {
     "name": "stdout",
     "output_type": "stream",
     "text": [
      "Error: 1.4523525897293021\n",
      "Error: 0.57403647027098\n",
      "Error: 0.11892199030640659\n",
      "Error: 0.002113858683464725\n",
      "Error: 2.249797511093293e-05\n",
      "Error: 2.171461978716213e-07\n",
      "Error: 2.067416259373011e-09\n",
      "Error: 1.9657156988391108e-11\n",
      "Error: 1.868773237479956e-13\n",
      "Error: 1.776588964667987e-15\n",
      "Error: 1.6889499581170738e-17\n",
      "Error: 1.6056328943495981e-19\n",
      "Error: 1.5264322982874238e-21\n",
      "Error: 1.4511642444145558e-23\n"
     ]
    }
   ],
   "source": [
    "np.random.seed(1)\n",
    "\n",
    "def relu(x):\n",
    "    return (x>0)*x\n",
    "\n",
    "def relu2deriv(output):\n",
    "    return output>0\n",
    "\n",
    "streetlights = np.array( [[ 1, 0,  1 ], \n",
    "                          [ 0, 1, 1 ],\n",
    "                          [ 0, 0, 1 ],\n",
    "                          [ 1, 1, 1 ] ] )  \n",
    "\n",
    "walk_vs_stop = np.array([[ 1, 1, 0, 0]]).T  \n",
    "\n",
    "alpha = 0.3 # learning rate\n",
    "hidden_size = 4\n",
    "\n",
    "# number of cols of streetlights\n",
    "weights_0_1=2 * np.random.random((3,hidden_size))-1\n",
    "\n",
    "#number of rows of walk_vs_street\n",
    "weights_1_2=2 * np.random.random((hidden_size,1))-1\n",
    "\n",
    "for i in range(120):\n",
    "    error=0\n",
    "    for x in range(len(streetlights)):\n",
    "        layer_0 = streetlights[x:x+1]\n",
    "        \n",
    "        layer_1 = relu(np.dot(layer_0, weights_0_1))\n",
    "        layer_2 = np.dot(layer_1,weights_1_2)\n",
    "        \n",
    "        error += np.sum((layer_2-walk_vs_stop[x:x+1])**2)\n",
    "        \n",
    "        layer_2_delta =  layer_2-walk_vs_stop[x:x+1]\n",
    "        \n",
    "        layer_1_delta = layer_2_delta.dot(weights_1_2.T)*(relu2deriv(layer_1))\n",
    "        \n",
    "        # update the weights  \n",
    "        weights_0_1 -= alpha * layer_0.T.dot(layer_1_delta)\n",
    "        weights_1_2 -= alpha * layer_1.T.dot(layer_2_delta)\n",
    "    \n",
    "    if i%9==0:\n",
    "        print(\"Error: {}\".format(error))"
   ]
  },
  {
   "cell_type": "code",
   "execution_count": null,
   "metadata": {},
   "outputs": [],
   "source": []
  }
 ],
 "metadata": {
  "kernelspec": {
   "display_name": "Python 3",
   "language": "python",
   "name": "python3"
  },
  "language_info": {
   "codemirror_mode": {
    "name": "ipython",
    "version": 3
   },
   "file_extension": ".py",
   "mimetype": "text/x-python",
   "name": "python",
   "nbconvert_exporter": "python",
   "pygments_lexer": "ipython3",
   "version": "3.7.3"
  }
 },
 "nbformat": 4,
 "nbformat_minor": 2
}
