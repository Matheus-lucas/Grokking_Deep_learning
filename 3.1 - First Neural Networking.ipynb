{
 "cells": [
  {
   "cell_type": "code",
   "execution_count": 21,
   "metadata": {},
   "outputs": [],
   "source": [
    "def neural_networking(teste,weight):\n",
    "    predict=teste*weight\n",
    "    return predict"
   ]
  },
  {
   "cell_type": "code",
   "execution_count": 15,
   "metadata": {},
   "outputs": [
    {
     "name": "stdout",
     "output_type": "stream",
     "text": [
      "0.85\n"
     ]
    }
   ],
   "source": [
    "teste=[8.5, 9.5, 10, 9]\n",
    "predict=neural_networking(teste[0],0.1)\n",
    "print(\"{0:.2f}\".format(predict))"
   ]
  },
  {
   "cell_type": "code",
   "execution_count": 25,
   "metadata": {},
   "outputs": [],
   "source": [
    "def neural_networking2(teste2,weight2):\n",
    "    predict2=w_sum(teste2,weight2)\n",
    "    return predict2"
   ]
  },
  {
   "cell_type": "code",
   "execution_count": 31,
   "metadata": {},
   "outputs": [],
   "source": [
    "def w_sum(a,b):\n",
    "    assert(len(a) == len(b))\n",
    "    output=0\n",
    "    for i in range(len(a)):\n",
    "        output+=(a[i]*b[i])\n",
    "    return output"
   ]
  },
  {
   "cell_type": "code",
   "execution_count": 36,
   "metadata": {},
   "outputs": [],
   "source": [
    "\"\"\"toes= the current number of tools\n",
    "    wirec = current numbers of victories in percent\n",
    "    nfans= nmbers of fans in millions \"\"\"\n",
    "\n",
    "weights=[0.1,0.2,0]\n",
    "toes=[8.5,9.5,9.9,9]\n",
    "wirec=[0.65,0.8,0.8,0.9]\n",
    "nfans=[1.2,1.3,0.5,1.0]\n",
    "input=[toes[0],wirec[0],nfans[0]]\n",
    "predict2=neural_networking2(input,weights)"
   ]
  },
  {
   "cell_type": "code",
   "execution_count": 37,
   "metadata": {},
   "outputs": [
    {
     "name": "stdout",
     "output_type": "stream",
     "text": [
      "0.9800000000000001\n"
     ]
    }
   ],
   "source": [
    "print(predict2)"
   ]
  },
  {
   "cell_type": "markdown",
   "metadata": {},
   "source": [
    "## Com Numpy"
   ]
  },
  {
   "cell_type": "code",
   "execution_count": 6,
   "metadata": {},
   "outputs": [
    {
     "name": "stdout",
     "output_type": "stream",
     "text": [
      "0.9800000000000001\n"
     ]
    }
   ],
   "source": [
    "import numpy as np\n",
    "weights=np.array([0.1,0.2,0])\n",
    "def neural_networking3(input,weights):\n",
    "    pred=input.dot(weights)\n",
    "    return pred\n",
    "\n",
    "toes=np.array([8.5,9.5,9.9,9])\n",
    "wirec=np.array([0.65,0.8,0.8,0.9])\n",
    "nfans=np.array([1.2,1.3,0.5,1.0])\n",
    "input1=np.array([toes[0],wirec[0],nfans[0]])\n",
    "pred=neural_networking3(input1,weights)\n",
    "print(pred)"
   ]
  },
  {
   "cell_type": "code",
   "execution_count": null,
   "metadata": {},
   "outputs": [],
   "source": []
  }
 ],
 "metadata": {
  "kernelspec": {
   "display_name": "Python 3",
   "language": "python",
   "name": "python3"
  },
  "language_info": {
   "codemirror_mode": {
    "name": "ipython",
    "version": 3
   },
   "file_extension": ".py",
   "mimetype": "text/x-python",
   "name": "python",
   "nbconvert_exporter": "python",
   "pygments_lexer": "ipython3",
   "version": "3.7.3"
  }
 },
 "nbformat": 4,
 "nbformat_minor": 2
}
