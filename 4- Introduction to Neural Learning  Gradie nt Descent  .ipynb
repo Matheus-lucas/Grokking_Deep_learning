{
 "cells": [
  {
   "cell_type": "markdown",
   "metadata": {},
   "source": [
    "## 4.6 - Método Quente-Frio (Hot and Cold)"
   ]
  },
  {
   "cell_type": "code",
   "execution_count": 1,
   "metadata": {},
   "outputs": [],
   "source": [
    "import numpy as np\n",
    "from time import sleep\n",
    "from IPython.display import clear_output"
   ]
  },
  {
   "cell_type": "code",
   "execution_count": 2,
   "metadata": {},
   "outputs": [],
   "source": [
    "weight = 0.1\n",
    "# valor a ser aumentado ou diminuido do peso\n",
    "# idela que seja pequeno, para que não haja muita variação\n",
    "lr = 0.01\n",
    "def neural_networking(input1, weight):\n",
    "    prediction=input1*weight\n",
    "    return prediction\n"
   ]
  },
  {
   "cell_type": "code",
   "execution_count": 3,
   "metadata": {},
   "outputs": [
    {
     "name": "stdout",
     "output_type": "stream",
     "text": [
      "0.022499999999999975\n"
     ]
    }
   ],
   "source": [
    "# fazendo a predição e calculando o erro\n",
    "# Mean Square Error\n",
    "number_of_toes=[8.5]\n",
    "win_or_lose_binary=[1] # won\n",
    "\n",
    "input1=number_of_toes[0]\n",
    "true=win_or_lose_binary[0]\n",
    "\n",
    "pred=neural_networking(input1,weight)\n",
    "\n",
    "error=(pred-true)**2\n",
    "print(error)"
   ]
  },
  {
   "cell_type": "code",
   "execution_count": 4,
   "metadata": {},
   "outputs": [
    {
     "name": "stdout",
     "output_type": "stream",
     "text": [
      "0.004224999999999993\n"
     ]
    }
   ],
   "source": [
    "p_up=neural_networking(input1,weight+lr)\n",
    "e_up=(p_up-true)**2\n",
    "print(e_up)"
   ]
  },
  {
   "cell_type": "code",
   "execution_count": 5,
   "metadata": {},
   "outputs": [
    {
     "name": "stdout",
     "output_type": "stream",
     "text": [
      "0.05522499999999994\n"
     ]
    }
   ],
   "source": [
    "p_dn=neural_networking(input1,weight-lr)\n",
    "e_dn=(p_dn-true)**2\n",
    "print(e_dn)"
   ]
  },
  {
   "cell_type": "code",
   "execution_count": 6,
   "metadata": {},
   "outputs": [],
   "source": [
    "if((error>e_dn) | (error>e_up)):\n",
    "    if e_dn < e_up:\n",
    "        weight -= lr\n",
    "    if e_up < e_dn:\n",
    "        weight +=lr"
   ]
  },
  {
   "cell_type": "code",
   "execution_count": 7,
   "metadata": {},
   "outputs": [
    {
     "name": "stdout",
     "output_type": "stream",
     "text": [
      "0.004224999999999993\n"
     ]
    }
   ],
   "source": [
    "pred=neural_networking(input1,weight)\n",
    "\n",
    "error=(pred-true)**2\n",
    "print(error)"
   ]
  },
  {
   "cell_type": "markdown",
   "metadata": {},
   "source": [
    "## Simplest Way"
   ]
  },
  {
   "cell_type": "code",
   "execution_count": 10,
   "metadata": {},
   "outputs": [
    {
     "name": "stdout",
     "output_type": "stream",
     "text": [
      "Error: 1.0799505792475652e-27 Prediction: 0.7999999999999672\n"
     ]
    }
   ],
   "source": [
    "weight = 0.5\n",
    "input1 = 0.5\n",
    "goal_prediction = 0.8\n",
    "\n",
    "#how much to move our weight in each interation\n",
    "step_amount=0.001\n",
    "\n",
    "for i in range(1101):\n",
    "    clear_output(wait=True)\n",
    "    prediction = input1*weight\n",
    "    error = (goal_prediction-prediction) ** 2\n",
    "    \n",
    "    print(\"Error: {} Prediction: {}\".format(error,prediction))\n",
    "    \n",
    "    #Try up\n",
    "    up_prediction = input1 * (weight + step_amount)\n",
    "    up_error = (goal_prediction - up_prediction) ** 2\n",
    "    \n",
    "    #try down\n",
    "    down_prediction = input1 * (weight - step_amount)\n",
    "    down_error = (goal_prediction - down_prediction) ** 2\n",
    "    \n",
    "    #if down is better, go down\n",
    "    if(down_error < up_error):\n",
    "        weight = weight - step_amount\n",
    "        \n",
    "    #if up is better, go up\n",
    "    if(up_error < down_error):\n",
    "        weight = weight + step_amount\n",
    "        \n",
    "    sleep(0.0001)\n",
    "        "
   ]
  },
  {
   "cell_type": "code",
   "execution_count": 27,
   "metadata": {},
   "outputs": [
    {
     "name": "stdout",
     "output_type": "stream",
     "text": [
      "interation: 1102, Prediction: 0.8004999999999671\n",
      "1102\n"
     ]
    }
   ],
   "source": [
    "# test the numbers of interation\n",
    "i=0\n",
    "input1-0.5\n",
    "prediction=0\n",
    "\n",
    "weight = 0.5\n",
    "input1 = 0.5\n",
    "goal_prediction = 0.8\n",
    "\n",
    "#how much to move our weight in each interation\n",
    "step_amount=0.001\n",
    "\n",
    "while prediction<goal_prediction:\n",
    "    \n",
    "    clear_output(wait=True)\n",
    "    prediction = input1*weight\n",
    "    error = (goal_prediction-prediction) ** 2\n",
    "    \n",
    "    #Try up\n",
    "    up_prediction = input1 * (weight + step_amount)\n",
    "    up_error = (goal_prediction - up_prediction) ** 2\n",
    "    \n",
    "    #try down\n",
    "    down_prediction = input1 * (weight - step_amount)\n",
    "    down_error = (goal_prediction - down_prediction) ** 2\n",
    "    \n",
    "    #if down is better, go down\n",
    "    if(down_error < up_error):\n",
    "        weight = weight - step_amount\n",
    "        \n",
    "    #if up is better, go up\n",
    "    if(up_error < down_error):\n",
    "        weight = weight + step_amount\n",
    "   \n",
    "    i+=1  \n",
    "    print(f\"interation: {i}, Prediction: {prediction}\")\n",
    "    sleep(0.0001)\n",
    "print(i)       "
   ]
  },
  {
   "cell_type": "markdown",
   "metadata": {},
   "source": [
    "### Calculating Both  direction  and  amount  from  error"
   ]
  },
  {
   "cell_type": "code",
   "execution_count": 32,
   "metadata": {},
   "outputs": [
    {
     "name": "stdout",
     "output_type": "stream",
     "text": [
      "Error: 5.408208020258491e-06, Prediction: 0.7976744445781151\n"
     ]
    }
   ],
   "source": [
    "weight = 0.5\n",
    "goal_pred = 0.8\n",
    "unput1 = 0.5\n",
    "\n",
    "for i in range(20):\n",
    "    clear_output(wait=True)\n",
    "    pred=input1 * weight\n",
    "    \n",
    "    # pure error\n",
    "    error = (pred - goal_pred) ** 2\n",
    "    \n",
    "    # scaling, negative reversal, and stopping\n",
    "    direction_and_amount = (pred-goal_pred) *input1\n",
    "    weight = weight - direction_and_amount \n",
    "    print(\"Error: {}, Prediction: {}\".format(error, pred))\n",
    "    sleep(0.1)"
   ]
  },
  {
   "cell_type": "markdown",
   "metadata": {},
   "source": [
    "* **What is the direction_and_amount ?** \n",
    "\n",
    "It represents how we want to change our weight . The first part (1) is what we call \"pure error\" which equals ( pred - goal_pred ). (More about this below.) The second part (2) is the multiplication by the input which performs sc aling, negative reversal, and stopping, modifying the \"pure error\" so that it's ready to update our weight.\n",
    "\n",
    "\n",
    "* **What is the \"pure error\"?**\n",
    "\n",
    "It's the ( pred - goal_pred ) which indicates \"the raw direction and amount that we missed\". If this is a positive number th en we predicted too high and vice versa. If this is a big number then we missed by a big amount, etc.  What is \"scaling, negative reversal, and stopping\"?  These three attributes have the combined affect of translating our \"pure error\" into \"the absolute amo unt that we want to change our weight \". They do so by addressing three major edge cases at which points the \"pure error\" is not sufficient to make a good modification to our weight.\n",
    "\n",
    "\n",
    "* **What is \"stopping\"?** \n",
    "\n",
    "This is the first (and simplest) effect on our \"pure error\" caused by multiplying it by our input . Imagine plugging a CD player into your stereo. If you turned the volume all the way up but the CD player was off ... it simply wouldn't matter. \"Stopping\" addresses this in our neural network. If our input is 0, then it will force our direction_ and_amount to also be 0. We don't learn (i.e. \"change the volume\") when our input is 0 because there's nothing to learn. Every weight value has the same error , and moving it makes no difference because the pred is always 0. \n",
    "\n",
    "\n",
    "* **What is \"negative reversal\"?** \n",
    "\n",
    "This is probably our most difficult and important effect. Normally (when input is positive), moving our weight upward makes our prediction move upward. However, if our input is negative , then all of a sudden our weight change s directions!!! When our input is negative , then moving our weight up makes the prediction go down . It's reversed!!! How do we address this? Well, multiplying our \"pure error\" by our input will reverse the sign of our direction_and_amount in the event that  our input is negative. This is \"negative reversal\", ensuring that our weight moves in the correct direction, even if the input is negative.  \n",
    "\n",
    "* **What is \"scaling\"?**\n",
    "\n",
    "Scaling is the third effect on our \"pure error\" caused by multiplying it by our input . Logically, it means that if our input was big, our weight update should also be big. This is more of a \"side affect\" as it can often go out of control. Later, we will use alpha to address when this scaling goes out of control.  "
   ]
  },
  {
   "cell_type": "markdown",
   "metadata": {},
   "source": [
    "## 4.10 - One Iteration of Gradient Descent  "
   ]
  },
  {
   "cell_type": "code",
   "execution_count": 37,
   "metadata": {},
   "outputs": [
    {
     "name": "stdout",
     "output_type": "stream",
     "text": [
      "0.11275\n"
     ]
    }
   ],
   "source": [
    "weight = 0.1\n",
    "alpha = 0.01\n",
    "\n",
    "number_of_toes = [8.5]\n",
    "win_or_lose_binary = [1] # won\n",
    "input1=number_of_toes[0]\n",
    "goal_pred=win_or_lose_binary[0]\n",
    "\n",
    "pred= neural_networking(input1,weight)\n",
    "\n",
    "error = (pred-goal_pred)**2\n",
    "\n",
    "# delta is how much we missed?\n",
    "delta=pred-goal_pred\n",
    "\n",
    "\"\"\"\n",
    "weight_delta is a measure of \"how much this weight caused the\n",
    "networking to miss\n",
    "\"\"\"\n",
    "weight_delta = input1 * delta \n",
    "\n",
    "weight -= weight_delta*alpha\n",
    "print(weight)"
   ]
  },
  {
   "cell_type": "markdown",
   "metadata": {},
   "source": [
    "## 4.11  Learning Is Just Reducing Error  "
   ]
  },
  {
   "cell_type": "code",
   "execution_count": 43,
   "metadata": {},
   "outputs": [
    {
     "name": "stdout",
     "output_type": "stream",
     "text": [
      "Error: 0.6400000000000001, Prediction: 0.8004999999999671\n",
      "Error: 0.3600000000000001, Prediction: 0.8004999999999671\n",
      "Error: 0.2025, Prediction: 0.8004999999999671\n",
      "Error: 0.11390625000000001, Prediction: 0.8004999999999671\n"
     ]
    }
   ],
   "source": [
    "weight,goal_pred,input1 = (0.0,0.8,0.5)\n",
    "\n",
    "for i in range(4):\n",
    "    error = ((input1 * weight) - goal_pred) ** 2\n",
    "    delta = pred - goal_pred\n",
    "    weight_delta = delta * input1\n",
    "    weight = weight - weight_delta\n",
    "    print(\"Error: {}, Prediction: {}\".format(error,prediction))\n",
    "    \n",
    "    "
   ]
  },
  {
   "cell_type": "markdown",
   "metadata": {},
   "source": [
    "## 4.21  Breaking Gradient Descent  "
   ]
  },
  {
   "cell_type": "code",
   "execution_count": 44,
   "metadata": {},
   "outputs": [
    {
     "name": "stdout",
     "output_type": "stream",
     "text": [
      "Error:0.30250000000000005 Prediction:0.25\n",
      "Error:0.17015625000000004 Prediction:0.3875\n",
      "Error:0.095712890625 Prediction:0.49062500000000003\n",
      "Error:0.05383850097656251 Prediction:0.56796875\n",
      "Error:0.03028415679931642 Prediction:0.6259765625\n",
      "Error:0.0170348381996155 Prediction:0.669482421875\n",
      "Error:0.00958209648728372 Prediction:0.70211181640625\n",
      "Error:0.005389929274097089 Prediction:0.7265838623046875\n",
      "Error:0.0030318352166796153 Prediction:0.7449378967285156\n",
      "Error:0.0017054073093822882 Prediction:0.7587034225463867\n",
      "Error:0.0009592916115275371 Prediction:0.76902756690979\n",
      "Error:0.0005396015314842384 Prediction:0.7767706751823426\n",
      "Error:0.000303525861459885 Prediction:0.7825780063867569\n",
      "Error:0.00017073329707118678 Prediction:0.7869335047900676\n",
      "Error:9.603747960254256e-05 Prediction:0.7902001285925507\n",
      "Error:5.402108227642978e-05 Prediction:0.7926500964444131\n",
      "Error:3.038685878049206e-05 Prediction:0.7944875723333098\n",
      "Error:1.7092608064027242e-05 Prediction:0.7958656792499823\n",
      "Error:9.614592036015323e-06 Prediction:0.7968992594374867\n",
      "Error:5.408208020258491e-06 Prediction:0.7976744445781151\n"
     ]
    }
   ],
   "source": [
    "weight = 0.5  \n",
    "goal_pred = 0.8  \n",
    "input1 = 0.5  \n",
    "for iteration in range(20):  \n",
    "    pred = input1 * weight  \n",
    "    error = (pred - goal_pred) ** 2  \n",
    "    delta = pred - goal_pred  \n",
    "    weight_delta = input1 * delta  \n",
    "    weight = weight - weight_delta  \n",
    "    print(\"Error:\" + str(error) + \" Prediction:\" + str(pred))  "
   ]
  },
  {
   "cell_type": "markdown",
   "metadata": {},
   "source": [
    "## 4.25  Alpha In Code  "
   ]
  },
  {
   "cell_type": "markdown",
   "metadata": {},
   "source": [
    "Normatizando o valor das entradas nos cálculos, para evitar a divergência na atualização dos pesos"
   ]
  },
  {
   "cell_type": "code",
   "execution_count": 56,
   "metadata": {},
   "outputs": [
    {
     "name": "stdout",
     "output_type": "stream",
     "text": [
      "Error:0.03999999999999998 Prediction:1.0\n",
      "Error:0.0144 Prediction:0.92\n",
      "Error:0.005183999999999993 Prediction:0.872\n",
      "Error:0.0018662400000000014 Prediction:0.8432000000000001\n",
      "Error:0.0006718464000000028 Prediction:0.8259200000000001\n",
      "Error:0.00024186470400000033 Prediction:0.815552\n",
      "Error:8.70712934399997e-05 Prediction:0.8093312\n",
      "Error:3.134566563839939e-05 Prediction:0.80559872\n",
      "Error:1.1284439629823931e-05 Prediction:0.803359232\n",
      "Error:4.062398266736526e-06 Prediction:0.8020155392\n",
      "Error:1.4624633760252567e-06 Prediction:0.8012093235200001\n",
      "Error:5.264868153690924e-07 Prediction:0.8007255941120001\n",
      "Error:1.8953525353291194e-07 Prediction:0.8004353564672001\n",
      "Error:6.82326912718715e-08 Prediction:0.8002612138803201\n",
      "Error:2.456376885786678e-08 Prediction:0.8001567283281921\n",
      "Error:8.842956788836216e-09 Prediction:0.8000940369969153\n",
      "Error:3.1834644439835434e-09 Prediction:0.8000564221981492\n",
      "Error:1.1460471998340758e-09 Prediction:0.8000338533188895\n",
      "Error:4.125769919393652e-10 Prediction:0.8000203119913337\n",
      "Error:1.485277170987127e-10 Prediction:0.8000121871948003\n"
     ]
    }
   ],
   "source": [
    "weight = 0.5  \n",
    "goal_pred = 0.8  \n",
    "input1 = 2  \n",
    "alpha = 0.10  \n",
    "for iteration in range(20):  \n",
    "    pred = input1 * weight  \n",
    "    error = (pred - goal_pred) ** 2  \n",
    "    derivative = input1 * (pred - goal_pred)\n",
    "    weight = weight - (alpha * derivative)  \n",
    "    print(\"Error:\" + str(error) + \" Prediction:\" + str(pred))  "
   ]
  },
  {
   "cell_type": "markdown",
   "metadata": {},
   "source": [
    "## Revisão"
   ]
  },
  {
   "cell_type": "code",
   "execution_count": 69,
   "metadata": {},
   "outputs": [
    {
     "name": "stdout",
     "output_type": "stream",
     "text": [
      "Error: 0.03999999999999998, Prediction: 1.0\n",
      "Error: 0.0144, Prediction: 0.92\n",
      "Error: 0.005183999999999993, Prediction: 0.872\n",
      "Error: 0.0018662400000000014, Prediction: 0.8432000000000001\n",
      "Error: 0.0006718464000000028, Prediction: 0.8259200000000001\n",
      "Error: 0.00024186470400000033, Prediction: 0.815552\n",
      "Error: 8.70712934399997e-05, Prediction: 0.8093312\n",
      "Error: 3.134566563839939e-05, Prediction: 0.80559872\n",
      "Error: 1.1284439629823931e-05, Prediction: 0.803359232\n",
      "Error: 4.062398266736526e-06, Prediction: 0.8020155392\n",
      "Error: 1.4624633760252567e-06, Prediction: 0.8012093235200001\n",
      "Error: 5.264868153690924e-07, Prediction: 0.8007255941120001\n",
      "Error: 1.8953525353291194e-07, Prediction: 0.8004353564672001\n",
      "Error: 6.82326912718715e-08, Prediction: 0.8002612138803201\n",
      "Error: 2.456376885786678e-08, Prediction: 0.8001567283281921\n",
      "Error: 8.842956788836216e-09, Prediction: 0.8000940369969153\n",
      "Error: 3.1834644439835434e-09, Prediction: 0.8000564221981492\n",
      "Error: 1.1460471998340758e-09, Prediction: 0.8000338533188895\n",
      "Error: 4.125769919393652e-10, Prediction: 0.8000203119913337\n",
      "Error: 1.485277170987127e-10, Prediction: 0.8000121871948003\n"
     ]
    }
   ],
   "source": [
    "weight=0.5 #pesos\n",
    "input1=2\n",
    "goal_pred=0.8\n",
    "\n",
    "# value to normatize the derivative in weight actualization\n",
    "alpha=0.1\n",
    "\n",
    "for i in range(20):\n",
    "    # make predictions\n",
    "    pred = input1*weight\n",
    "    \n",
    "    #calculate the error eith Minimum Square Error\n",
    "    error= (pred-goal_pred)**2\n",
    "    \n",
    "    # Calculate the gradient descendent\n",
    "    # the gradient descedent must be multiplicated for the input, to predict signal erros in direction\n",
    "    derivate = input1 * (pred - goal_pred)\n",
    "    \n",
    "    # calculate the new weight, with derivative normalization\n",
    "    # predict the divergence with large derivatives\n",
    "    weight = weight - (derivate * alpha)\n",
    "    \n",
    "    print(\"Error: {}, Prediction: {}\".format(error,pred))"
   ]
  },
  {
   "cell_type": "code",
   "execution_count": null,
   "metadata": {},
   "outputs": [],
   "source": []
  }
 ],
 "metadata": {
  "kernelspec": {
   "display_name": "Python 3",
   "language": "python",
   "name": "python3"
  },
  "language_info": {
   "codemirror_mode": {
    "name": "ipython",
    "version": 3
   },
   "file_extension": ".py",
   "mimetype": "text/x-python",
   "name": "python",
   "nbconvert_exporter": "python",
   "pygments_lexer": "ipython3",
   "version": "3.7.3"
  }
 },
 "nbformat": 4,
 "nbformat_minor": 2
}
